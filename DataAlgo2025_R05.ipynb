{
  "nbformat": 4,
  "nbformat_minor": 0,
  "metadata": {
    "colab": {
      "provenance": [],
      "collapsed_sections": [
        "-SqpuNOEWS-a",
        "c7rf54NjW5f2"
      ],
      "include_colab_link": true
    },
    "kernelspec": {
      "name": "python3",
      "display_name": "Python 3"
    }
  },
  "cells": [
    {
      "cell_type": "markdown",
      "metadata": {
        "id": "view-in-github",
        "colab_type": "text"
      },
      "source": [
        "<a href=\"https://colab.research.google.com/github/satohryouichi/DataAlgo-UT/blob/main/DataAlgo2025_R05.ipynb\" target=\"_parent\"><img src=\"https://colab.research.google.com/assets/colab-badge.svg\" alt=\"Open In Colab\"/></a>"
      ]
    },
    {
      "cell_type": "markdown",
      "metadata": {
        "id": "-SqpuNOEWS-a"
      },
      "source": [
        "# データ構造とアルゴリズム 第5週課題 (2025/05/21 ver.A)\n",
        "\n",
        "---\n",
        "\n",
        "\n",
        "★下記３要素を**必ず直接書き換えてから**提出すること．\n",
        "\n",
        "* 学籍番号： 202210211\n",
        "* 氏名： 佐藤遼一\n",
        "* Colabアカウント： sugarmolone@gmail.com\n",
        "\n",
        "**学生同士で教えた・教わった・グループワークをした場合，必ず下記の当該行を直接書き換えて記述すること．**  \n",
        "申告があった場合は，論述などで内容が似ていたり，プログラムが似ていても減点はしない．（コピペレベルの同一文などは処罰対象）  \n",
        "**教えた側は加点対象となる．**\n",
        "\n",
        "**[教えた側]**  \n",
        "教えた相手：＜氏名＞　＜学籍番号＞  \n",
        "（何名いてもよい；教えた相手の内容が浅くなってないか確認すること）\n",
        "\n",
        "**[教わった側]**  \n",
        "教わった相手：＜氏名＞　＜学籍番号＞  \n",
        "（何名いてもよい；必ず教えた側に自分の名前を書いてもらうこと）\n",
        "\n",
        "**[グループワーク]**  \n",
        "一緒に行った相手：＜氏名＞　＜学籍番号＞  \n",
        "（何名いてもよいが，必ずお互いの名前を全員記すこと）\n"
      ]
    },
    {
      "cell_type": "markdown",
      "source": [
        "---\n",
        "# 必須課題5A トポロジカルソーティングアルゴリズムの説明\n",
        "\n",
        "DataAlgo_UT(006)_TopologicalSort 中で示している トポロジカルソーティングに沿って，グラフ4において，開始頂点を5にして図解してみせよ．\n",
        "\n",
        "* 本授業内容（講義資料参照）に即した説明であること．\n",
        "* （ChatGPT等に相談すると授業内容と異なることが多いので注意すること．これは本授業の課題すべてに共通）\n",
        "* 図解において頂点選択に同等の選択肢がある場合は頂点番号の小さいものから選ぶこと．\n",
        "\n",
        "図解については，YouTube Shortの形（２週目の課題参照）でテキストセルにURLを示すこと．（手書きで紙に書くこと．肉声で解説しながら書くこと．本人確認も兼ねてるので，ペンタブや合成音声などは全て認めません）  \n",
        "例 https://youtube.com/shorts/T2YnvHBectU  "
      ],
      "metadata": {
        "id": "7dIPn4v0OzEu"
      }
    },
    {
      "cell_type": "markdown",
      "source": [
        "https://youtube.com/shorts/cwBD_OkfVpY?si=ApRhkGJFNcscGdPP\n"
      ],
      "metadata": {
        "id": "Pizx96TSQIsk"
      }
    },
    {
      "cell_type": "markdown",
      "metadata": {
        "id": "TjOgrYW8lAmy"
      },
      "source": [
        "---\n",
        "# 必須課題5B topologicalsorting_J の計算量\n",
        "\n",
        "DataAlgo_UT(006)_TopologicalSort 中で示している topologicalsorting_J の時間計算量と空間計算量について議論せよ．その計算過程（根拠）も示すこと．  \n",
        "（授業内で言及していた内容をまとめるだけでよい）  \n",
        "（ChatGPT等に相談すると授業内での言及と異なる説明をしてくることが多いので鵜呑みにしないこと．これは本授業の課題すべてに共通）  \n",
        "* 説明に必要なプログラム参照については，以下のコードセルに必要部分**のみ**を張り付けること．  \n",
        "* 文章による説明は以下のテキストセルを利用せよ．"
      ]
    },
    {
      "cell_type": "markdown",
      "source": [
        "どちらも頂点数をNとしてNの二乗に比例している"
      ],
      "metadata": {
        "id": "59S8Pe8r8kZn"
      }
    },
    {
      "cell_type": "code",
      "source": [],
      "metadata": {
        "id": "bzIKB-5kHVUG"
      },
      "execution_count": null,
      "outputs": []
    },
    {
      "cell_type": "markdown",
      "source": [
        "どちらもNを頂点数としてNの二乗に比例している"
      ],
      "metadata": {
        "id": "1a9C9Wq46yy2"
      }
    },
    {
      "cell_type": "markdown",
      "source": [],
      "metadata": {
        "id": "-JwcHgAK84bd"
      }
    },
    {
      "cell_type": "markdown",
      "metadata": {
        "id": "mRLPlzcHmhiQ"
      },
      "source": [
        "int listed[N];  // 0 未, 1 済\n",
        "\n",
        "void dfs(int CurrentRoom){\n",
        "    int RoomToCheck;\n",
        "    listed[CurrentRoom] = 1;\n",
        "    for (RoomToCheck = 0; RoomToCheck < N; RoomToCheck++) {\n",
        "        if (edge[CurrentRoom][RoomToCheck] != 0 && listed[RoomToCheck] == 0)\n",
        "            dfs(RoomToCheck);\n",
        "    }\n",
        "    for (RoomToCheck = 0; RoomToCheck < N; RoomToCheck++)\n",
        "→ 各頂点に対して N 回のループ ⇒ O(N)\n",
        "\n",
        "edge[CurrentRoom][RoomToCheck]\n",
        "→ 隣接行列（サイズは N×N）にアクセスしている ⇒ 時間計算量と空間計算量ともに O(N^2) の根拠\n",
        "\n"
      ]
    },
    {
      "cell_type": "markdown",
      "metadata": {
        "id": "8NUVKBVvmvtw"
      },
      "source": [
        "---\n",
        "# 必須課題5C longestpath_J の計算量\n",
        "\n",
        "DataAlgo_UT(007)_LongestPath 中で示している longestpath_J の時間計算量と空間計算量について議論せよ．その計算過程（根拠）も示すこと．  \n",
        "（授業内で言及していた内容をまとめるだけでよい）  \n",
        "（ChatGPT等に相談すると授業内での言及と異なる説明をしてくることが多いので鵜呑みにしないこと．これは本授業の課題すべてに共通）  \n",
        "* 説明に必要なプログラム参照については，以下のコードセルに必要部分**のみ**を張り付けること．  \n",
        "* 文章による説明は以下のテキストセルを利用せよ．"
      ]
    },
    {
      "cell_type": "code",
      "source": [
        "for (p = N-1; p >= 0; p--) {\n",
        "    d = tsort[p];\n",
        "    for (s = 0; s < N; s++) {\n",
        "        if (edge[s][d] > 0 && path[s].W + edge[s][d] > path[d].W) {\n",
        "            path[d].W = path[s].W + edge[s][d];\n",
        "            path[d].src = s;\n",
        "        }\n",
        "    }\n",
        "}\n"
      ],
      "metadata": {
        "id": "bsF_3ZSyIZsI"
      },
      "execution_count": null,
      "outputs": []
    },
    {
      "cell_type": "markdown",
      "metadata": {
        "id": "B9Z8A8xin-Ru"
      },
      "source": [
        "トポロジカル順で各頂点 d に対して、全ての s を走査して edge[s][d] を評価をするのでNの二乗に比例する。空間計算量も隣接行列なのでNの二乗に比例する"
      ]
    },
    {
      "cell_type": "markdown",
      "metadata": {
        "id": "hRiIuzTTANJ_"
      },
      "source": [
        "---\n",
        "# 必須課題5D トポロジカルソーティングにける閉路の存在\n",
        "\n",
        "トポロジカルソーティングに与えるグラフには閉路が存在してはならない．  \n",
        "その理由を説明せよ．\n",
        "\n",
        "参考までに，2025年度のChatGPT(4o)で尋ねると本授業内容と整合しない説明を実際にしてくる(2025/05/21現在)．全てを鵜吞みにしないこと．"
      ]
    },
    {
      "cell_type": "markdown",
      "metadata": {
        "id": "q4ZmHSMKBGDd"
      },
      "source": [
        "授業内でも扱ったグラフ図にした場合、閉路が存在してしまうと矢印が逆向きに向きうるから"
      ]
    },
    {
      "cell_type": "code",
      "source": [],
      "metadata": {
        "id": "ngOeuMVxCBoD"
      },
      "execution_count": null,
      "outputs": []
    },
    {
      "cell_type": "markdown",
      "metadata": {
        "id": "sh-BC5I0A0ye"
      },
      "source": [
        "---\n",
        "# 必須課題5E 最長経路問題における閉路の存在への対応\n",
        "\n",
        "最長経路問題において，与えるグラフには閉路が存在していないと仮定した．  \n",
        "これは本授業の解法アルゴリズムにおいて，解が得られることを保証するためである．  \n",
        "そこで，閉路が存在しても解が得られるようにするには，問題をどのように変更すればよいか，議論せよ．\n",
        "\n",
        "参考までに，こちらはChatGPTさんに尋ねるとまぁまぁまともな説明をしてくるようである（が明日には不適切な説明を始めるかもしれないので，自分で理解して内容が合ってることを確かめること）．\n"
      ]
    },
    {
      "cell_type": "markdown",
      "metadata": {
        "id": "ZpaHbvVwBJha"
      },
      "source": [
        "例えば同じところを二度通らないという条件をつける。\n",
        "\n",
        "これなら閉路の有無にかかわらず、意味のある最長経路が定義できる。"
      ]
    },
    {
      "cell_type": "markdown",
      "metadata": {
        "id": "NTFmAWpPnnaz"
      },
      "source": [
        "---\n",
        "# 発展課題5X トポロジカルソーティングにおける閉路の扱い\n",
        "\n",
        "DataAlgo_UT(006)_TopologicalSort 中で示している topologicalsorting_J プログラムでは，実際に閉路が含まれるグラフを与えても実行すると結果が出てしまう．  \n",
        "これは，閉路があるとトポロジカルソーティングができないはず，ということと矛盾する．  \n",
        "つまり，本プログラムで実行結果がでるのは，グラフの解釈を都合のよいように勝手に変えているからと考えることができる．  \n",
        "それでは，本プログラムでは，与えられたグラフに閉路が存在するとき，それをどう解釈して解を得ているのか，説明を試みよ．  \n",
        "必要であれば説明用に適宜セルを追加してよい。\n",
        "\n"
      ]
    },
    {
      "cell_type": "code",
      "source": [
        "（必要なプログラムの一部はここに示すこと．必要に応じてセルを増やしてよい）"
      ],
      "metadata": {
        "id": "m2HsofuIOskH"
      },
      "execution_count": null,
      "outputs": []
    },
    {
      "cell_type": "markdown",
      "metadata": {
        "id": "ljT6EzOYnUZp"
      },
      "source": [
        "（議論はこの文字列を消してここに記述）"
      ]
    },
    {
      "cell_type": "markdown",
      "source": [
        "---\n",
        "#発展課題5Y 最長経路問題における閉路への対応\n",
        "\n",
        "一定の条件を新たに課すことで，最長経路問題を，本授業で以前に示した深さ優先探索プログラムを応用して解くことができるようになる．  \n",
        "（そのアルゴリズムはDataAlgo_UT(007)に沿ってなくてよい）  \n",
        "そのようなプログラムを作成し，実行して，閉路の存在するグラフに対して最長経路が得られることを確かめよ．  \n",
        "（おそらくは）このプログラムの時間計算量は指数時間オーダーになると予想される．その理由も説明せよ．"
      ],
      "metadata": {
        "id": "JOgEdvowS9II"
      }
    },
    {
      "cell_type": "code",
      "source": [
        "(閉路の存在するグラフに対して最長経路が得られるC言語プログラム)"
      ],
      "metadata": {
        "id": "fTgdYt_3UX9R"
      },
      "execution_count": null,
      "outputs": []
    },
    {
      "cell_type": "code",
      "source": [
        "(コンパイル方法などを示す)"
      ],
      "metadata": {
        "id": "pvrTi6VVUhoz"
      },
      "execution_count": null,
      "outputs": []
    },
    {
      "cell_type": "code",
      "source": [
        "(実行結果などを示す)"
      ],
      "metadata": {
        "id": "tiTMVAQgUlQE"
      },
      "execution_count": null,
      "outputs": []
    },
    {
      "cell_type": "markdown",
      "source": [
        "（指数時間オーダーになることに関する議論はこの文字列を消してここに記述）"
      ],
      "metadata": {
        "id": "dA2gTJVqUcV_"
      }
    },
    {
      "cell_type": "markdown",
      "metadata": {
        "id": "c7rf54NjW5f2"
      },
      "source": [
        "---\n",
        "# 課題提出法\n",
        "\n",
        "筑波大学工学システム学類３年生向け．  \n",
        "FG24711 / FG34711．  \n",
        "\n",
        "必須課題は全て実施すること．\n",
        "発展課題はしなくともよいが，A+取得には発展課題を（全課題提出を通して）1つ以上実施していることが必要条件である．\n",
        "\n",
        "# 出典\n",
        "\n",
        "筑波大学工学システム学類  \n",
        "データ構造とアルゴリズム  \n",
        "担当：亀田能成  \n"
      ]
    }
  ]
}